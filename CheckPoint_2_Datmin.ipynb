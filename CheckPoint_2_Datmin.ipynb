{
  "nbformat": 4,
  "nbformat_minor": 0,
  "metadata": {
    "colab": {
      "provenance": [],
      "collapsed_sections": [
        "NjuQhrNyZtm3"
      ],
      "toc_visible": true,
      "include_colab_link": true
    },
    "kernelspec": {
      "name": "python3",
      "display_name": "Python 3"
    },
    "language_info": {
      "name": "python"
    }
  },
  "cells": [
    {
      "cell_type": "markdown",
      "metadata": {
        "id": "view-in-github",
        "colab_type": "text"
      },
      "source": [
        "<a href=\"https://colab.research.google.com/github/fauzangifari/miniproject-datamining/blob/main/CheckPoint_2_Datmin.ipynb\" target=\"_parent\"><img src=\"https://colab.research.google.com/assets/colab-badge.svg\" alt=\"Open In Colab\"/></a>"
      ]
    },
    {
      "cell_type": "markdown",
      "source": [
        "# **Rata-Rata Waktu yang Dihabiskan Oleh Pengguna Di Media Sosial**"
      ],
      "metadata": {
        "id": "h3AZjxo2ZxS6"
      }
    },
    {
      "cell_type": "markdown",
      "source": [
        "#**Import Library**"
      ],
      "metadata": {
        "id": "JNBmfbIjWxgM"
      }
    },
    {
      "cell_type": "code",
      "source": [
        "import pandas as pd\n",
        "import seaborn as sns\n",
        "import matplotlib.pyplot as plt"
      ],
      "metadata": {
        "id": "JsnHJGLtW06a"
      },
      "execution_count": 2,
      "outputs": []
    },
    {
      "cell_type": "markdown",
      "source": [
        "#**BUSINESS UNDERSTANDING**"
      ],
      "metadata": {
        "id": "NjuQhrNyZtm3"
      }
    },
    {
      "cell_type": "markdown",
      "source": [
        "##**Business Objective**"
      ],
      "metadata": {
        "id": "qzSZy2KwZ4zx"
      }
    },
    {
      "cell_type": "markdown",
      "source": [
        "Dataset ini memiliki tujuan bisnis yang jelas, yaitu untuk memperoleh pemahaman yang mendalam mengenai rata-rata waktu yang dihabiskan oleh pengguna media sosial. Lebih dari itu, dataset ini juga memiliki potensi untuk memberikan kontribusi yang signifikan bagi platform media sosial, pengiklan, pembuat konten, dan para peneliti. Dengan informasi yang tersedia dalam dataset ini, pihak-pihak terkait dapat merancang strategi yang lebih efektif dan memahami dampak media sosial secara lebih komprehensif terhadap individu maupun masyarakat secara keseluruhan."
      ],
      "metadata": {
        "id": "hU2-bH_KZ8Ge"
      }
    },
    {
      "cell_type": "markdown",
      "source": [
        "##**Assess Situation**"
      ],
      "metadata": {
        "id": "3dTYY-qjZ_Yz"
      }
    },
    {
      "cell_type": "markdown",
      "source": [
        "Analisis ini didasari oleh situasi bisnis yang penting, yaitu untuk mendalami perilaku pengguna saat menggunakan media sosial setiap hari. Dalam hal ini, pemahaman lebih lanjut tentang bagaimana interaksi dengan platform media sosial dapat memengaruhi produktivitas individu menjadi fokus utama. Dengan pemahaman yang lebih baik tentang dinamika ini, perusahaan dan individu dapat mengembangkan strategi yang lebih efektif untuk mengelola waktu dan meningkatkan produktivitas mereka."
      ],
      "metadata": {
        "id": "3mI7ZTjDaGnC"
      }
    },
    {
      "cell_type": "markdown",
      "source": [
        "##**Data Mining Goals**"
      ],
      "metadata": {
        "id": "Tqvpt5r-aJKs"
      }
    },
    {
      "cell_type": "markdown",
      "source": [
        "Tujuan dari Data Mining pada dataset ini adalah untuk menganalisis data yang akan digunakan sebagai prediksi perilaku masa depan pengguna berdasarkan pola waktu yang dihabiskan, serta untuk melakukan perbandingan antara rata-rata waktu yang dihabiskan di berbagai platform media sosial. Melalui pemahaman yang mendalam dari data rata-rata waktu yang dihabiskan oleh pengguna media sosial, berbagai tujuan data mining tersebut dapat membantu perusahaan dan peneliti dalam memahami perilaku pengguna dengan lebih baik, serta merancang strategi yang lebih efektif."
      ],
      "metadata": {
        "id": "GXsyNC0zaO-o"
      }
    },
    {
      "cell_type": "markdown",
      "source": [
        "##**Project Plan**"
      ],
      "metadata": {
        "id": "78Yvo7Q9aRTt"
      }
    },
    {
      "cell_type": "markdown",
      "source": [
        "Rencana proyek ini dimulai dengan pengumpulan data dari sumber yang tersedia, diikuti oleh pemrosesan data untuk membersihkan dan mempersiapkannya. Kemudian, dilakukan analisis untuk memahami pola-pola yang terkandung di dalamnya, dan hasilnya akan divisualisasikan untuk mempresentasikan temuan dan wawasan yang diperoleh. Data juga akan dikelompokkan berdasarkan pola waktu yang dihabiskan, langkah-langkah ini penting untuk menjamin keberhasilan analisis data."
      ],
      "metadata": {
        "id": "H0uheBdyaUfH"
      }
    },
    {
      "cell_type": "markdown",
      "source": [
        "#**DATA UNDERSTANDING**"
      ],
      "metadata": {
        "id": "8yFrLpBtZXuy"
      }
    },
    {
      "cell_type": "markdown",
      "source": [
        "##**Collect Initial Data**"
      ],
      "metadata": {
        "id": "tjm5LzEuT0oe"
      }
    },
    {
      "cell_type": "markdown",
      "source": [
        "Dari dataset di bawah ini, yang didapatkan dari situs web bernama Keggle, data ini mencakup rata-rata waktu yang dihabiskan oleh pengguna media sosial.\n",
        "\n",
        "Link DataSet:https://www.kaggle.com/datasets/imyjoshua/average-time-spent-by-a-user-on-social-media"
      ],
      "metadata": {
        "id": "SsIGird1UBw8"
      }
    },
    {
      "cell_type": "code",
      "execution_count": 3,
      "metadata": {
        "id": "3ncBfThxSpiL"
      },
      "outputs": [],
      "source": [
        "DATA_URL=\"https://raw.githubusercontent.com/fauzangifari/miniproject-datamining/main/dataset.csv\""
      ]
    },
    {
      "cell_type": "code",
      "source": [
        "df = pd.read_csv(DATA_URL)\n",
        "df.head()"
      ],
      "metadata": {
        "id": "TIphOYA31rDp",
        "colab": {
          "base_uri": "https://localhost:8080/",
          "height": 206
        },
        "outputId": "e8bc2f08-5833-4529-d590-6904aa4764b4"
      },
      "execution_count": 4,
      "outputs": [
        {
          "output_type": "execute_result",
          "data": {
            "text/plain": [
              "   age      gender  time_spent   platform  interests        location  \\\n",
              "0   56        male           3  Instagram     Sports  United Kingdom   \n",
              "1   46      female           2   Facebook     Travel  United Kingdom   \n",
              "2   32        male           8  Instagram     Sports       Australia   \n",
              "3   60  non-binary           5  Instagram     Travel  United Kingdom   \n",
              "4   25        male           1  Instagram  Lifestlye       Australia   \n",
              "\n",
              "  demographics         profession  income  indebt  isHomeOwner  Owns_Car  \n",
              "0        Urban  Software Engineer   19774    True        False     False  \n",
              "1        Urban            Student   10564    True         True      True  \n",
              "2    Sub_Urban   Marketer Manager   13258   False        False     False  \n",
              "3        Urban            Student   12500   False         True     False  \n",
              "4        Urban  Software Engineer   14566   False         True      True  "
            ],
            "text/html": [
              "\n",
              "  <div id=\"df-efec7b08-72d8-4859-a828-09fbcfeca327\" class=\"colab-df-container\">\n",
              "    <div>\n",
              "<style scoped>\n",
              "    .dataframe tbody tr th:only-of-type {\n",
              "        vertical-align: middle;\n",
              "    }\n",
              "\n",
              "    .dataframe tbody tr th {\n",
              "        vertical-align: top;\n",
              "    }\n",
              "\n",
              "    .dataframe thead th {\n",
              "        text-align: right;\n",
              "    }\n",
              "</style>\n",
              "<table border=\"1\" class=\"dataframe\">\n",
              "  <thead>\n",
              "    <tr style=\"text-align: right;\">\n",
              "      <th></th>\n",
              "      <th>age</th>\n",
              "      <th>gender</th>\n",
              "      <th>time_spent</th>\n",
              "      <th>platform</th>\n",
              "      <th>interests</th>\n",
              "      <th>location</th>\n",
              "      <th>demographics</th>\n",
              "      <th>profession</th>\n",
              "      <th>income</th>\n",
              "      <th>indebt</th>\n",
              "      <th>isHomeOwner</th>\n",
              "      <th>Owns_Car</th>\n",
              "    </tr>\n",
              "  </thead>\n",
              "  <tbody>\n",
              "    <tr>\n",
              "      <th>0</th>\n",
              "      <td>56</td>\n",
              "      <td>male</td>\n",
              "      <td>3</td>\n",
              "      <td>Instagram</td>\n",
              "      <td>Sports</td>\n",
              "      <td>United Kingdom</td>\n",
              "      <td>Urban</td>\n",
              "      <td>Software Engineer</td>\n",
              "      <td>19774</td>\n",
              "      <td>True</td>\n",
              "      <td>False</td>\n",
              "      <td>False</td>\n",
              "    </tr>\n",
              "    <tr>\n",
              "      <th>1</th>\n",
              "      <td>46</td>\n",
              "      <td>female</td>\n",
              "      <td>2</td>\n",
              "      <td>Facebook</td>\n",
              "      <td>Travel</td>\n",
              "      <td>United Kingdom</td>\n",
              "      <td>Urban</td>\n",
              "      <td>Student</td>\n",
              "      <td>10564</td>\n",
              "      <td>True</td>\n",
              "      <td>True</td>\n",
              "      <td>True</td>\n",
              "    </tr>\n",
              "    <tr>\n",
              "      <th>2</th>\n",
              "      <td>32</td>\n",
              "      <td>male</td>\n",
              "      <td>8</td>\n",
              "      <td>Instagram</td>\n",
              "      <td>Sports</td>\n",
              "      <td>Australia</td>\n",
              "      <td>Sub_Urban</td>\n",
              "      <td>Marketer Manager</td>\n",
              "      <td>13258</td>\n",
              "      <td>False</td>\n",
              "      <td>False</td>\n",
              "      <td>False</td>\n",
              "    </tr>\n",
              "    <tr>\n",
              "      <th>3</th>\n",
              "      <td>60</td>\n",
              "      <td>non-binary</td>\n",
              "      <td>5</td>\n",
              "      <td>Instagram</td>\n",
              "      <td>Travel</td>\n",
              "      <td>United Kingdom</td>\n",
              "      <td>Urban</td>\n",
              "      <td>Student</td>\n",
              "      <td>12500</td>\n",
              "      <td>False</td>\n",
              "      <td>True</td>\n",
              "      <td>False</td>\n",
              "    </tr>\n",
              "    <tr>\n",
              "      <th>4</th>\n",
              "      <td>25</td>\n",
              "      <td>male</td>\n",
              "      <td>1</td>\n",
              "      <td>Instagram</td>\n",
              "      <td>Lifestlye</td>\n",
              "      <td>Australia</td>\n",
              "      <td>Urban</td>\n",
              "      <td>Software Engineer</td>\n",
              "      <td>14566</td>\n",
              "      <td>False</td>\n",
              "      <td>True</td>\n",
              "      <td>True</td>\n",
              "    </tr>\n",
              "  </tbody>\n",
              "</table>\n",
              "</div>\n",
              "    <div class=\"colab-df-buttons\">\n",
              "\n",
              "  <div class=\"colab-df-container\">\n",
              "    <button class=\"colab-df-convert\" onclick=\"convertToInteractive('df-efec7b08-72d8-4859-a828-09fbcfeca327')\"\n",
              "            title=\"Convert this dataframe to an interactive table.\"\n",
              "            style=\"display:none;\">\n",
              "\n",
              "  <svg xmlns=\"http://www.w3.org/2000/svg\" height=\"24px\" viewBox=\"0 -960 960 960\">\n",
              "    <path d=\"M120-120v-720h720v720H120Zm60-500h600v-160H180v160Zm220 220h160v-160H400v160Zm0 220h160v-160H400v160ZM180-400h160v-160H180v160Zm440 0h160v-160H620v160ZM180-180h160v-160H180v160Zm440 0h160v-160H620v160Z\"/>\n",
              "  </svg>\n",
              "    </button>\n",
              "\n",
              "  <style>\n",
              "    .colab-df-container {\n",
              "      display:flex;\n",
              "      gap: 12px;\n",
              "    }\n",
              "\n",
              "    .colab-df-convert {\n",
              "      background-color: #E8F0FE;\n",
              "      border: none;\n",
              "      border-radius: 50%;\n",
              "      cursor: pointer;\n",
              "      display: none;\n",
              "      fill: #1967D2;\n",
              "      height: 32px;\n",
              "      padding: 0 0 0 0;\n",
              "      width: 32px;\n",
              "    }\n",
              "\n",
              "    .colab-df-convert:hover {\n",
              "      background-color: #E2EBFA;\n",
              "      box-shadow: 0px 1px 2px rgba(60, 64, 67, 0.3), 0px 1px 3px 1px rgba(60, 64, 67, 0.15);\n",
              "      fill: #174EA6;\n",
              "    }\n",
              "\n",
              "    .colab-df-buttons div {\n",
              "      margin-bottom: 4px;\n",
              "    }\n",
              "\n",
              "    [theme=dark] .colab-df-convert {\n",
              "      background-color: #3B4455;\n",
              "      fill: #D2E3FC;\n",
              "    }\n",
              "\n",
              "    [theme=dark] .colab-df-convert:hover {\n",
              "      background-color: #434B5C;\n",
              "      box-shadow: 0px 1px 3px 1px rgba(0, 0, 0, 0.15);\n",
              "      filter: drop-shadow(0px 1px 2px rgba(0, 0, 0, 0.3));\n",
              "      fill: #FFFFFF;\n",
              "    }\n",
              "  </style>\n",
              "\n",
              "    <script>\n",
              "      const buttonEl =\n",
              "        document.querySelector('#df-efec7b08-72d8-4859-a828-09fbcfeca327 button.colab-df-convert');\n",
              "      buttonEl.style.display =\n",
              "        google.colab.kernel.accessAllowed ? 'block' : 'none';\n",
              "\n",
              "      async function convertToInteractive(key) {\n",
              "        const element = document.querySelector('#df-efec7b08-72d8-4859-a828-09fbcfeca327');\n",
              "        const dataTable =\n",
              "          await google.colab.kernel.invokeFunction('convertToInteractive',\n",
              "                                                    [key], {});\n",
              "        if (!dataTable) return;\n",
              "\n",
              "        const docLinkHtml = 'Like what you see? Visit the ' +\n",
              "          '<a target=\"_blank\" href=https://colab.research.google.com/notebooks/data_table.ipynb>data table notebook</a>'\n",
              "          + ' to learn more about interactive tables.';\n",
              "        element.innerHTML = '';\n",
              "        dataTable['output_type'] = 'display_data';\n",
              "        await google.colab.output.renderOutput(dataTable, element);\n",
              "        const docLink = document.createElement('div');\n",
              "        docLink.innerHTML = docLinkHtml;\n",
              "        element.appendChild(docLink);\n",
              "      }\n",
              "    </script>\n",
              "  </div>\n",
              "\n",
              "\n",
              "<div id=\"df-e9a103ce-1e47-4e90-9f49-159eca28813b\">\n",
              "  <button class=\"colab-df-quickchart\" onclick=\"quickchart('df-e9a103ce-1e47-4e90-9f49-159eca28813b')\"\n",
              "            title=\"Suggest charts\"\n",
              "            style=\"display:none;\">\n",
              "\n",
              "<svg xmlns=\"http://www.w3.org/2000/svg\" height=\"24px\"viewBox=\"0 0 24 24\"\n",
              "     width=\"24px\">\n",
              "    <g>\n",
              "        <path d=\"M19 3H5c-1.1 0-2 .9-2 2v14c0 1.1.9 2 2 2h14c1.1 0 2-.9 2-2V5c0-1.1-.9-2-2-2zM9 17H7v-7h2v7zm4 0h-2V7h2v10zm4 0h-2v-4h2v4z\"/>\n",
              "    </g>\n",
              "</svg>\n",
              "  </button>\n",
              "\n",
              "<style>\n",
              "  .colab-df-quickchart {\n",
              "      --bg-color: #E8F0FE;\n",
              "      --fill-color: #1967D2;\n",
              "      --hover-bg-color: #E2EBFA;\n",
              "      --hover-fill-color: #174EA6;\n",
              "      --disabled-fill-color: #AAA;\n",
              "      --disabled-bg-color: #DDD;\n",
              "  }\n",
              "\n",
              "  [theme=dark] .colab-df-quickchart {\n",
              "      --bg-color: #3B4455;\n",
              "      --fill-color: #D2E3FC;\n",
              "      --hover-bg-color: #434B5C;\n",
              "      --hover-fill-color: #FFFFFF;\n",
              "      --disabled-bg-color: #3B4455;\n",
              "      --disabled-fill-color: #666;\n",
              "  }\n",
              "\n",
              "  .colab-df-quickchart {\n",
              "    background-color: var(--bg-color);\n",
              "    border: none;\n",
              "    border-radius: 50%;\n",
              "    cursor: pointer;\n",
              "    display: none;\n",
              "    fill: var(--fill-color);\n",
              "    height: 32px;\n",
              "    padding: 0;\n",
              "    width: 32px;\n",
              "  }\n",
              "\n",
              "  .colab-df-quickchart:hover {\n",
              "    background-color: var(--hover-bg-color);\n",
              "    box-shadow: 0 1px 2px rgba(60, 64, 67, 0.3), 0 1px 3px 1px rgba(60, 64, 67, 0.15);\n",
              "    fill: var(--button-hover-fill-color);\n",
              "  }\n",
              "\n",
              "  .colab-df-quickchart-complete:disabled,\n",
              "  .colab-df-quickchart-complete:disabled:hover {\n",
              "    background-color: var(--disabled-bg-color);\n",
              "    fill: var(--disabled-fill-color);\n",
              "    box-shadow: none;\n",
              "  }\n",
              "\n",
              "  .colab-df-spinner {\n",
              "    border: 2px solid var(--fill-color);\n",
              "    border-color: transparent;\n",
              "    border-bottom-color: var(--fill-color);\n",
              "    animation:\n",
              "      spin 1s steps(1) infinite;\n",
              "  }\n",
              "\n",
              "  @keyframes spin {\n",
              "    0% {\n",
              "      border-color: transparent;\n",
              "      border-bottom-color: var(--fill-color);\n",
              "      border-left-color: var(--fill-color);\n",
              "    }\n",
              "    20% {\n",
              "      border-color: transparent;\n",
              "      border-left-color: var(--fill-color);\n",
              "      border-top-color: var(--fill-color);\n",
              "    }\n",
              "    30% {\n",
              "      border-color: transparent;\n",
              "      border-left-color: var(--fill-color);\n",
              "      border-top-color: var(--fill-color);\n",
              "      border-right-color: var(--fill-color);\n",
              "    }\n",
              "    40% {\n",
              "      border-color: transparent;\n",
              "      border-right-color: var(--fill-color);\n",
              "      border-top-color: var(--fill-color);\n",
              "    }\n",
              "    60% {\n",
              "      border-color: transparent;\n",
              "      border-right-color: var(--fill-color);\n",
              "    }\n",
              "    80% {\n",
              "      border-color: transparent;\n",
              "      border-right-color: var(--fill-color);\n",
              "      border-bottom-color: var(--fill-color);\n",
              "    }\n",
              "    90% {\n",
              "      border-color: transparent;\n",
              "      border-bottom-color: var(--fill-color);\n",
              "    }\n",
              "  }\n",
              "</style>\n",
              "\n",
              "  <script>\n",
              "    async function quickchart(key) {\n",
              "      const quickchartButtonEl =\n",
              "        document.querySelector('#' + key + ' button');\n",
              "      quickchartButtonEl.disabled = true;  // To prevent multiple clicks.\n",
              "      quickchartButtonEl.classList.add('colab-df-spinner');\n",
              "      try {\n",
              "        const charts = await google.colab.kernel.invokeFunction(\n",
              "            'suggestCharts', [key], {});\n",
              "      } catch (error) {\n",
              "        console.error('Error during call to suggestCharts:', error);\n",
              "      }\n",
              "      quickchartButtonEl.classList.remove('colab-df-spinner');\n",
              "      quickchartButtonEl.classList.add('colab-df-quickchart-complete');\n",
              "    }\n",
              "    (() => {\n",
              "      let quickchartButtonEl =\n",
              "        document.querySelector('#df-e9a103ce-1e47-4e90-9f49-159eca28813b button');\n",
              "      quickchartButtonEl.style.display =\n",
              "        google.colab.kernel.accessAllowed ? 'block' : 'none';\n",
              "    })();\n",
              "  </script>\n",
              "</div>\n",
              "    </div>\n",
              "  </div>\n"
            ],
            "application/vnd.google.colaboratory.intrinsic+json": {
              "type": "dataframe",
              "variable_name": "df",
              "summary": "{\n  \"name\": \"df\",\n  \"rows\": 1000,\n  \"fields\": [\n    {\n      \"column\": \"age\",\n      \"properties\": {\n        \"dtype\": \"number\",\n        \"std\": 13,\n        \"min\": 18,\n        \"max\": 64,\n        \"num_unique_values\": 47,\n        \"samples\": [\n          24,\n          48,\n          54\n        ],\n        \"semantic_type\": \"\",\n        \"description\": \"\"\n      }\n    },\n    {\n      \"column\": \"gender\",\n      \"properties\": {\n        \"dtype\": \"category\",\n        \"num_unique_values\": 3,\n        \"samples\": [\n          \"male\",\n          \"female\",\n          \"non-binary\"\n        ],\n        \"semantic_type\": \"\",\n        \"description\": \"\"\n      }\n    },\n    {\n      \"column\": \"time_spent\",\n      \"properties\": {\n        \"dtype\": \"number\",\n        \"std\": 2,\n        \"min\": 1,\n        \"max\": 9,\n        \"num_unique_values\": 9,\n        \"samples\": [\n          6,\n          2,\n          4\n        ],\n        \"semantic_type\": \"\",\n        \"description\": \"\"\n      }\n    },\n    {\n      \"column\": \"platform\",\n      \"properties\": {\n        \"dtype\": \"category\",\n        \"num_unique_values\": 3,\n        \"samples\": [\n          \"Instagram\",\n          \"Facebook\",\n          \"YouTube\"\n        ],\n        \"semantic_type\": \"\",\n        \"description\": \"\"\n      }\n    },\n    {\n      \"column\": \"interests\",\n      \"properties\": {\n        \"dtype\": \"category\",\n        \"num_unique_values\": 3,\n        \"samples\": [\n          \"Sports\",\n          \"Travel\",\n          \"Lifestlye\"\n        ],\n        \"semantic_type\": \"\",\n        \"description\": \"\"\n      }\n    },\n    {\n      \"column\": \"location\",\n      \"properties\": {\n        \"dtype\": \"category\",\n        \"num_unique_values\": 3,\n        \"samples\": [\n          \"United Kingdom\",\n          \"Australia\",\n          \"United States\"\n        ],\n        \"semantic_type\": \"\",\n        \"description\": \"\"\n      }\n    },\n    {\n      \"column\": \"demographics\",\n      \"properties\": {\n        \"dtype\": \"category\",\n        \"num_unique_values\": 3,\n        \"samples\": [\n          \"Urban\",\n          \"Sub_Urban\",\n          \"Rural\"\n        ],\n        \"semantic_type\": \"\",\n        \"description\": \"\"\n      }\n    },\n    {\n      \"column\": \"profession\",\n      \"properties\": {\n        \"dtype\": \"category\",\n        \"num_unique_values\": 3,\n        \"samples\": [\n          \"Software Engineer\",\n          \"Student\",\n          \"Marketer Manager\"\n        ],\n        \"semantic_type\": \"\",\n        \"description\": \"\"\n      }\n    },\n    {\n      \"column\": \"income\",\n      \"properties\": {\n        \"dtype\": \"number\",\n        \"std\": 2958,\n        \"min\": 10012,\n        \"max\": 19980,\n        \"num_unique_values\": 955,\n        \"samples\": [\n          11752,\n          10600,\n          13862\n        ],\n        \"semantic_type\": \"\",\n        \"description\": \"\"\n      }\n    },\n    {\n      \"column\": \"indebt\",\n      \"properties\": {\n        \"dtype\": \"boolean\",\n        \"num_unique_values\": 2,\n        \"samples\": [\n          false,\n          true\n        ],\n        \"semantic_type\": \"\",\n        \"description\": \"\"\n      }\n    },\n    {\n      \"column\": \"isHomeOwner\",\n      \"properties\": {\n        \"dtype\": \"boolean\",\n        \"num_unique_values\": 2,\n        \"samples\": [\n          true,\n          false\n        ],\n        \"semantic_type\": \"\",\n        \"description\": \"\"\n      }\n    },\n    {\n      \"column\": \"Owns_Car\",\n      \"properties\": {\n        \"dtype\": \"boolean\",\n        \"num_unique_values\": 2,\n        \"samples\": [\n          true,\n          false\n        ],\n        \"semantic_type\": \"\",\n        \"description\": \"\"\n      }\n    }\n  ]\n}"
            }
          },
          "metadata": {},
          "execution_count": 4
        }
      ]
    },
    {
      "cell_type": "markdown",
      "source": [
        "Informasi di atas adalah data yang terdapat dalam dataset yang diambil dari Kaggle."
      ],
      "metadata": {
        "id": "Jb15o8rGdcAW"
      }
    },
    {
      "cell_type": "markdown",
      "source": [
        "##**Describe Data**"
      ],
      "metadata": {
        "id": "-hy6_uvIVOGH"
      }
    },
    {
      "cell_type": "markdown",
      "source": [
        "####Informasi Dasar"
      ],
      "metadata": {
        "id": "nl6nccPmUZ6F"
      }
    },
    {
      "cell_type": "code",
      "source": [
        "print(df)\n",
        "print(\"Jumlah Baris\", df.shape[0])\n",
        "print(\"Jumlah Kolom\" , df.shape[1])"
      ],
      "metadata": {
        "id": "zEyDvT0EUcB2",
        "colab": {
          "base_uri": "https://localhost:8080/"
        },
        "outputId": "210fbfbf-c2d4-4345-fc73-640024d1d1bf"
      },
      "execution_count": null,
      "outputs": [
        {
          "output_type": "stream",
          "name": "stdout",
          "text": [
            "     age      gender  time_spent   platform  interests        location  \\\n",
            "0     56        male           3  Instagram     Sports  United Kingdom   \n",
            "1     46      female           2   Facebook     Travel  United Kingdom   \n",
            "2     32        male           8  Instagram     Sports       Australia   \n",
            "3     60  non-binary           5  Instagram     Travel  United Kingdom   \n",
            "4     25        male           1  Instagram  Lifestlye       Australia   \n",
            "..   ...         ...         ...        ...        ...             ...   \n",
            "995   22      female           8  Instagram  Lifestlye  United Kingdom   \n",
            "996   40  non-binary           6    YouTube     Travel  United Kingdom   \n",
            "997   27  non-binary           5    YouTube     Travel  United Kingdom   \n",
            "998   61      female           4    YouTube     Sports       Australia   \n",
            "999   19      female           8    YouTube     Travel       Australia   \n",
            "\n",
            "    demographics         profession  income  indebt  isHomeOwner  Owns_Car  \n",
            "0          Urban  Software Engineer   19774    True        False     False  \n",
            "1          Urban            Student   10564    True         True      True  \n",
            "2      Sub_Urban   Marketer Manager   13258   False        False     False  \n",
            "3          Urban            Student   12500   False         True     False  \n",
            "4          Urban  Software Engineer   14566   False         True      True  \n",
            "..           ...                ...     ...     ...          ...       ...  \n",
            "995        Rural   Marketer Manager   18536   False         True     False  \n",
            "996        Rural  Software Engineer   12711    True        False     False  \n",
            "997        Rural            Student   17595    True        False      True  \n",
            "998    Sub_Urban   Marketer Manager   16273    True         True     False  \n",
            "999        Rural            Student   16284   False         True     False  \n",
            "\n",
            "[1000 rows x 12 columns]\n",
            "Jumlah Baris 1000\n",
            "Jumlah Kolom 12\n"
          ]
        }
      ]
    },
    {
      "cell_type": "markdown",
      "source": [
        "Setelah mengakses DataFrame yang tersedia, terdapat bahwa DataFrame tersebut terdiri dari 1000 baris dan 12 kolom."
      ],
      "metadata": {
        "id": "ZwH62IRTVXNL"
      }
    },
    {
      "cell_type": "markdown",
      "source": [
        "####Informasi Lanjutan"
      ],
      "metadata": {
        "id": "BXEzaPAHVMPd"
      }
    },
    {
      "cell_type": "code",
      "source": [
        "df.info()"
      ],
      "metadata": {
        "id": "L1CvPak8VHOF",
        "colab": {
          "base_uri": "https://localhost:8080/"
        },
        "outputId": "1164fbbc-ec2b-48fd-f08d-5eaf3ca61bf7"
      },
      "execution_count": null,
      "outputs": [
        {
          "output_type": "stream",
          "name": "stdout",
          "text": [
            "<class 'pandas.core.frame.DataFrame'>\n",
            "RangeIndex: 1000 entries, 0 to 999\n",
            "Data columns (total 12 columns):\n",
            " #   Column        Non-Null Count  Dtype \n",
            "---  ------        --------------  ----- \n",
            " 0   age           1000 non-null   int64 \n",
            " 1   gender        1000 non-null   object\n",
            " 2   time_spent    1000 non-null   int64 \n",
            " 3   platform      1000 non-null   object\n",
            " 4   interests     1000 non-null   object\n",
            " 5   location      1000 non-null   object\n",
            " 6   demographics  1000 non-null   object\n",
            " 7   profession    1000 non-null   object\n",
            " 8   income        1000 non-null   int64 \n",
            " 9   indebt        1000 non-null   bool  \n",
            " 10  isHomeOwner   1000 non-null   bool  \n",
            " 11  Owns_Car      1000 non-null   bool  \n",
            "dtypes: bool(3), int64(3), object(6)\n",
            "memory usage: 73.4+ KB\n"
          ]
        }
      ]
    },
    {
      "cell_type": "markdown",
      "source": [
        "Dari data di atas, terdapat kolom sebanyak 12 yang memiliki tipe data yang berbeda-beda serta fungsi yang beragam:\n",
        "\n",
        "1. **Age**: Kolom ini menggunakan tipe data int64, menunjukkan bahwa setiap nilai dalam kolom tersebut merupakan bilangan bulat. Hal ini sesuai karena umur umumnya direpresentasikan dalam bentuk bilangan bulat. Kolom ini digunakan untuk menyimpan informasi tentang usia pengguna, memberikan gambaran tentang rentang usia dari pengguna dalam dataset tersebut.\n",
        "\n",
        "2. **Gender**: Kolom ini menggunakan tipe data object, menunjukkan bahwa setiap nilai di dalamnya direpresentasikan sebagai teks. Nilai-nilai dalam kolom Gender mungkin berisi kata-kata seperti \"pria\", \"wanita\", \"non-biner\", atau variasi lain yang mengidentifikasi jenis kelamin seseorang. Kolom ini memberikan informasi tentang jenis kelamin pengguna dalam dataset tersebut.\n",
        "\n",
        "3. **Time Spent**: Kolom ini menggunakan tipe data int64, menunjukkan bahwa setiap nilai dalam kolom tersebut adalah bilangan bulat. Ini sesuai karena waktu umumnya direpresentasikan dalam bentuk bilangan bulat, mungkin mewakili jam, menit, atau detik. Kolom ini berisi informasi tentang waktu yang dihabiskan oleh pengguna dalam dataset tersebut.\n",
        "\n",
        "4. **Platform**: Kolom ini menggunakan tipe data object, menandakan bahwa setiap nilai di dalamnya direpresentasikan sebagai teks. Kolom ini berisi informasi tentang platform media sosial yang digunakan oleh pengguna dataset tersebut.\n",
        "\n",
        "5. **Interests**: Kolom ini menggunakan tipe data object, menunjukkan bahwa setiap nilai dalam kolom tersebut berupa teks. Kolom ini mencerminkan minat atau hobi pengguna.\n",
        "\n",
        "6. **Location**: Kolom ini menggunakan tipe data object, menunjukkan bahwa setiap nilai dalam kolom tersebut direpresentasikan sebagai teks. Kolom ini berisi informasi tentang lokasi atau tempat yang terkait dengan pengguna dataset tersebut, mungkin mencakup negara di mana pengguna berada.\n",
        "\n",
        "7. **Demographics**: Kolom ini menggunakan tipe data object, menunjukkan bahwa setiap nilai di dalamnya direpresentasikan sebagai teks. Kolom ini berisi informasi demografis yang terkait dengan pengguna dataset tersebut, seperti urban, suburban, rural, dan sebagainya.\n",
        "\n",
        "8. **Profession**: Kolom ini menggunakan tipe data object, menandakan bahwa setiap nilai dalam kolom tersebut direpresentasikan sebagai teks. Kolom ini berisi informasi tentang profesi atau pekerjaan yang terkait dengan pengguna dalam dataset tersebut.\n",
        "\n",
        "9. **Income**: Kolom ini menggunakan tipe data int64, menunjukkan bahwa setiap nilai dalam kolom tersebut direpresentasikan dalam bentuk bilangan bulat. Nilai-nilai dalam kolom **Income** mungkin mewakili pendapatan pengguna dalam jumlah tertentu.\n",
        "\n",
        "10. **InDebt**: Kolom ini menggunakan tipe data bool, menunjukkan bahwa setiap nilai dalam kolom ini hanya ada dua kemungkinan jawaban: True atau False. Ini berarti kolom ini mungkin digunakan untuk menunjukkan apakah pengguna memiliki hutang (True) atau tidak (False).\n",
        "\n",
        "11. **isHomeOwner**: Kolom ini menggunakan tipe data bool, menunjukkan bahwa setiap nilai dalam kolom hanya memiliki dua kemungkinan jawaban: True atau False. Ini menunjukkan bahwa kolom ini mungkin digunakan untuk menunjukkan apakah pengguna memiliki rumah (True) atau tidak (False).\n",
        "\n",
        "12. **Owns_car**: Kolom ini menggunakan tipe data bool, menunjukkan bahwa setiap nilai dalam kolom hanya memiliki dua kemungkinan jawaban: True atau False. Ini menunjukkan bahwa kolom ini mungkin digunakan untuk menunjukkan apakah pengguna memiliki mobil (True) atau tidak (False)."
      ],
      "metadata": {
        "id": "-6miym5GVbaC"
      }
    },
    {
      "cell_type": "markdown",
      "source": [
        "####Informasi Statistik Deskriptif"
      ],
      "metadata": {
        "id": "D5GD3qzXVrF5"
      }
    },
    {
      "cell_type": "code",
      "source": [
        "df.describe()"
      ],
      "metadata": {
        "id": "rHdqc2OkVuPC",
        "colab": {
          "base_uri": "https://localhost:8080/",
          "height": 300
        },
        "outputId": "62e7d36f-7c18-49b0-8fae-c364a2c44429"
      },
      "execution_count": null,
      "outputs": [
        {
          "output_type": "execute_result",
          "data": {
            "text/plain": [
              "               age   time_spent        income\n",
              "count  1000.000000  1000.000000   1000.000000\n",
              "mean     40.986000     5.029000  15014.823000\n",
              "std      13.497852     2.537834   2958.628221\n",
              "min      18.000000     1.000000  10012.000000\n",
              "25%      29.000000     3.000000  12402.250000\n",
              "50%      42.000000     5.000000  14904.500000\n",
              "75%      52.000000     7.000000  17674.250000\n",
              "max      64.000000     9.000000  19980.000000"
            ],
            "text/html": [
              "\n",
              "  <div id=\"df-b4424a49-6a34-48f7-95c2-2867dc19a60f\" class=\"colab-df-container\">\n",
              "    <div>\n",
              "<style scoped>\n",
              "    .dataframe tbody tr th:only-of-type {\n",
              "        vertical-align: middle;\n",
              "    }\n",
              "\n",
              "    .dataframe tbody tr th {\n",
              "        vertical-align: top;\n",
              "    }\n",
              "\n",
              "    .dataframe thead th {\n",
              "        text-align: right;\n",
              "    }\n",
              "</style>\n",
              "<table border=\"1\" class=\"dataframe\">\n",
              "  <thead>\n",
              "    <tr style=\"text-align: right;\">\n",
              "      <th></th>\n",
              "      <th>age</th>\n",
              "      <th>time_spent</th>\n",
              "      <th>income</th>\n",
              "    </tr>\n",
              "  </thead>\n",
              "  <tbody>\n",
              "    <tr>\n",
              "      <th>count</th>\n",
              "      <td>1000.000000</td>\n",
              "      <td>1000.000000</td>\n",
              "      <td>1000.000000</td>\n",
              "    </tr>\n",
              "    <tr>\n",
              "      <th>mean</th>\n",
              "      <td>40.986000</td>\n",
              "      <td>5.029000</td>\n",
              "      <td>15014.823000</td>\n",
              "    </tr>\n",
              "    <tr>\n",
              "      <th>std</th>\n",
              "      <td>13.497852</td>\n",
              "      <td>2.537834</td>\n",
              "      <td>2958.628221</td>\n",
              "    </tr>\n",
              "    <tr>\n",
              "      <th>min</th>\n",
              "      <td>18.000000</td>\n",
              "      <td>1.000000</td>\n",
              "      <td>10012.000000</td>\n",
              "    </tr>\n",
              "    <tr>\n",
              "      <th>25%</th>\n",
              "      <td>29.000000</td>\n",
              "      <td>3.000000</td>\n",
              "      <td>12402.250000</td>\n",
              "    </tr>\n",
              "    <tr>\n",
              "      <th>50%</th>\n",
              "      <td>42.000000</td>\n",
              "      <td>5.000000</td>\n",
              "      <td>14904.500000</td>\n",
              "    </tr>\n",
              "    <tr>\n",
              "      <th>75%</th>\n",
              "      <td>52.000000</td>\n",
              "      <td>7.000000</td>\n",
              "      <td>17674.250000</td>\n",
              "    </tr>\n",
              "    <tr>\n",
              "      <th>max</th>\n",
              "      <td>64.000000</td>\n",
              "      <td>9.000000</td>\n",
              "      <td>19980.000000</td>\n",
              "    </tr>\n",
              "  </tbody>\n",
              "</table>\n",
              "</div>\n",
              "    <div class=\"colab-df-buttons\">\n",
              "\n",
              "  <div class=\"colab-df-container\">\n",
              "    <button class=\"colab-df-convert\" onclick=\"convertToInteractive('df-b4424a49-6a34-48f7-95c2-2867dc19a60f')\"\n",
              "            title=\"Convert this dataframe to an interactive table.\"\n",
              "            style=\"display:none;\">\n",
              "\n",
              "  <svg xmlns=\"http://www.w3.org/2000/svg\" height=\"24px\" viewBox=\"0 -960 960 960\">\n",
              "    <path d=\"M120-120v-720h720v720H120Zm60-500h600v-160H180v160Zm220 220h160v-160H400v160Zm0 220h160v-160H400v160ZM180-400h160v-160H180v160Zm440 0h160v-160H620v160ZM180-180h160v-160H180v160Zm440 0h160v-160H620v160Z\"/>\n",
              "  </svg>\n",
              "    </button>\n",
              "\n",
              "  <style>\n",
              "    .colab-df-container {\n",
              "      display:flex;\n",
              "      gap: 12px;\n",
              "    }\n",
              "\n",
              "    .colab-df-convert {\n",
              "      background-color: #E8F0FE;\n",
              "      border: none;\n",
              "      border-radius: 50%;\n",
              "      cursor: pointer;\n",
              "      display: none;\n",
              "      fill: #1967D2;\n",
              "      height: 32px;\n",
              "      padding: 0 0 0 0;\n",
              "      width: 32px;\n",
              "    }\n",
              "\n",
              "    .colab-df-convert:hover {\n",
              "      background-color: #E2EBFA;\n",
              "      box-shadow: 0px 1px 2px rgba(60, 64, 67, 0.3), 0px 1px 3px 1px rgba(60, 64, 67, 0.15);\n",
              "      fill: #174EA6;\n",
              "    }\n",
              "\n",
              "    .colab-df-buttons div {\n",
              "      margin-bottom: 4px;\n",
              "    }\n",
              "\n",
              "    [theme=dark] .colab-df-convert {\n",
              "      background-color: #3B4455;\n",
              "      fill: #D2E3FC;\n",
              "    }\n",
              "\n",
              "    [theme=dark] .colab-df-convert:hover {\n",
              "      background-color: #434B5C;\n",
              "      box-shadow: 0px 1px 3px 1px rgba(0, 0, 0, 0.15);\n",
              "      filter: drop-shadow(0px 1px 2px rgba(0, 0, 0, 0.3));\n",
              "      fill: #FFFFFF;\n",
              "    }\n",
              "  </style>\n",
              "\n",
              "    <script>\n",
              "      const buttonEl =\n",
              "        document.querySelector('#df-b4424a49-6a34-48f7-95c2-2867dc19a60f button.colab-df-convert');\n",
              "      buttonEl.style.display =\n",
              "        google.colab.kernel.accessAllowed ? 'block' : 'none';\n",
              "\n",
              "      async function convertToInteractive(key) {\n",
              "        const element = document.querySelector('#df-b4424a49-6a34-48f7-95c2-2867dc19a60f');\n",
              "        const dataTable =\n",
              "          await google.colab.kernel.invokeFunction('convertToInteractive',\n",
              "                                                    [key], {});\n",
              "        if (!dataTable) return;\n",
              "\n",
              "        const docLinkHtml = 'Like what you see? Visit the ' +\n",
              "          '<a target=\"_blank\" href=https://colab.research.google.com/notebooks/data_table.ipynb>data table notebook</a>'\n",
              "          + ' to learn more about interactive tables.';\n",
              "        element.innerHTML = '';\n",
              "        dataTable['output_type'] = 'display_data';\n",
              "        await google.colab.output.renderOutput(dataTable, element);\n",
              "        const docLink = document.createElement('div');\n",
              "        docLink.innerHTML = docLinkHtml;\n",
              "        element.appendChild(docLink);\n",
              "      }\n",
              "    </script>\n",
              "  </div>\n",
              "\n",
              "\n",
              "<div id=\"df-e03f7d17-b8b0-4f88-a30e-e021e3c2649c\">\n",
              "  <button class=\"colab-df-quickchart\" onclick=\"quickchart('df-e03f7d17-b8b0-4f88-a30e-e021e3c2649c')\"\n",
              "            title=\"Suggest charts\"\n",
              "            style=\"display:none;\">\n",
              "\n",
              "<svg xmlns=\"http://www.w3.org/2000/svg\" height=\"24px\"viewBox=\"0 0 24 24\"\n",
              "     width=\"24px\">\n",
              "    <g>\n",
              "        <path d=\"M19 3H5c-1.1 0-2 .9-2 2v14c0 1.1.9 2 2 2h14c1.1 0 2-.9 2-2V5c0-1.1-.9-2-2-2zM9 17H7v-7h2v7zm4 0h-2V7h2v10zm4 0h-2v-4h2v4z\"/>\n",
              "    </g>\n",
              "</svg>\n",
              "  </button>\n",
              "\n",
              "<style>\n",
              "  .colab-df-quickchart {\n",
              "      --bg-color: #E8F0FE;\n",
              "      --fill-color: #1967D2;\n",
              "      --hover-bg-color: #E2EBFA;\n",
              "      --hover-fill-color: #174EA6;\n",
              "      --disabled-fill-color: #AAA;\n",
              "      --disabled-bg-color: #DDD;\n",
              "  }\n",
              "\n",
              "  [theme=dark] .colab-df-quickchart {\n",
              "      --bg-color: #3B4455;\n",
              "      --fill-color: #D2E3FC;\n",
              "      --hover-bg-color: #434B5C;\n",
              "      --hover-fill-color: #FFFFFF;\n",
              "      --disabled-bg-color: #3B4455;\n",
              "      --disabled-fill-color: #666;\n",
              "  }\n",
              "\n",
              "  .colab-df-quickchart {\n",
              "    background-color: var(--bg-color);\n",
              "    border: none;\n",
              "    border-radius: 50%;\n",
              "    cursor: pointer;\n",
              "    display: none;\n",
              "    fill: var(--fill-color);\n",
              "    height: 32px;\n",
              "    padding: 0;\n",
              "    width: 32px;\n",
              "  }\n",
              "\n",
              "  .colab-df-quickchart:hover {\n",
              "    background-color: var(--hover-bg-color);\n",
              "    box-shadow: 0 1px 2px rgba(60, 64, 67, 0.3), 0 1px 3px 1px rgba(60, 64, 67, 0.15);\n",
              "    fill: var(--button-hover-fill-color);\n",
              "  }\n",
              "\n",
              "  .colab-df-quickchart-complete:disabled,\n",
              "  .colab-df-quickchart-complete:disabled:hover {\n",
              "    background-color: var(--disabled-bg-color);\n",
              "    fill: var(--disabled-fill-color);\n",
              "    box-shadow: none;\n",
              "  }\n",
              "\n",
              "  .colab-df-spinner {\n",
              "    border: 2px solid var(--fill-color);\n",
              "    border-color: transparent;\n",
              "    border-bottom-color: var(--fill-color);\n",
              "    animation:\n",
              "      spin 1s steps(1) infinite;\n",
              "  }\n",
              "\n",
              "  @keyframes spin {\n",
              "    0% {\n",
              "      border-color: transparent;\n",
              "      border-bottom-color: var(--fill-color);\n",
              "      border-left-color: var(--fill-color);\n",
              "    }\n",
              "    20% {\n",
              "      border-color: transparent;\n",
              "      border-left-color: var(--fill-color);\n",
              "      border-top-color: var(--fill-color);\n",
              "    }\n",
              "    30% {\n",
              "      border-color: transparent;\n",
              "      border-left-color: var(--fill-color);\n",
              "      border-top-color: var(--fill-color);\n",
              "      border-right-color: var(--fill-color);\n",
              "    }\n",
              "    40% {\n",
              "      border-color: transparent;\n",
              "      border-right-color: var(--fill-color);\n",
              "      border-top-color: var(--fill-color);\n",
              "    }\n",
              "    60% {\n",
              "      border-color: transparent;\n",
              "      border-right-color: var(--fill-color);\n",
              "    }\n",
              "    80% {\n",
              "      border-color: transparent;\n",
              "      border-right-color: var(--fill-color);\n",
              "      border-bottom-color: var(--fill-color);\n",
              "    }\n",
              "    90% {\n",
              "      border-color: transparent;\n",
              "      border-bottom-color: var(--fill-color);\n",
              "    }\n",
              "  }\n",
              "</style>\n",
              "\n",
              "  <script>\n",
              "    async function quickchart(key) {\n",
              "      const quickchartButtonEl =\n",
              "        document.querySelector('#' + key + ' button');\n",
              "      quickchartButtonEl.disabled = true;  // To prevent multiple clicks.\n",
              "      quickchartButtonEl.classList.add('colab-df-spinner');\n",
              "      try {\n",
              "        const charts = await google.colab.kernel.invokeFunction(\n",
              "            'suggestCharts', [key], {});\n",
              "      } catch (error) {\n",
              "        console.error('Error during call to suggestCharts:', error);\n",
              "      }\n",
              "      quickchartButtonEl.classList.remove('colab-df-spinner');\n",
              "      quickchartButtonEl.classList.add('colab-df-quickchart-complete');\n",
              "    }\n",
              "    (() => {\n",
              "      let quickchartButtonEl =\n",
              "        document.querySelector('#df-e03f7d17-b8b0-4f88-a30e-e021e3c2649c button');\n",
              "      quickchartButtonEl.style.display =\n",
              "        google.colab.kernel.accessAllowed ? 'block' : 'none';\n",
              "    })();\n",
              "  </script>\n",
              "</div>\n",
              "    </div>\n",
              "  </div>\n"
            ],
            "application/vnd.google.colaboratory.intrinsic+json": {
              "type": "dataframe",
              "summary": "{\n  \"name\": \"df\",\n  \"rows\": 8,\n  \"fields\": [\n    {\n      \"column\": \"age\",\n      \"properties\": {\n        \"dtype\": \"number\",\n        \"std\": 340.86101014470347,\n        \"min\": 13.497851532595696,\n        \"max\": 1000.0,\n        \"num_unique_values\": 8,\n        \"samples\": [\n          40.986,\n          42.0,\n          1000.0\n        ],\n        \"semantic_type\": \"\",\n        \"description\": \"\"\n      }\n    },\n    {\n      \"column\": \"time_spent\",\n      \"properties\": {\n        \"dtype\": \"number\",\n        \"std\": 351.91769496333643,\n        \"min\": 1.0,\n        \"max\": 1000.0,\n        \"num_unique_values\": 8,\n        \"samples\": [\n          5.029,\n          5.0,\n          1000.0\n        ],\n        \"semantic_type\": \"\",\n        \"description\": \"\"\n      }\n    },\n    {\n      \"column\": \"income\",\n      \"properties\": {\n        \"dtype\": \"number\",\n        \"std\": 6758.44456876357,\n        \"min\": 1000.0,\n        \"max\": 19980.0,\n        \"num_unique_values\": 8,\n        \"samples\": [\n          15014.823,\n          14904.5,\n          1000.0\n        ],\n        \"semantic_type\": \"\",\n        \"description\": \"\"\n      }\n    }\n  ]\n}"
            }
          },
          "metadata": {},
          "execution_count": 24
        }
      ]
    },
    {
      "cell_type": "markdown",
      "source": [
        "Terdapat tabel diatas menunjukkan ringkasan statistik deskriptif untuk tiga kolom dalam dataset, yaitu age, time_spent, dan income:\n",
        "\n",
        "1. Count: menunjukkan jumlah pengamatan atau observasi dalam setiap kolom. Misalnya ada 1000 data untuk age, time_spent, dan income.\n",
        "\n",
        "2. Mean: ini adalah rata-rata dari nilai-nilai dalam setiap kolom. Untuk contoh ini, rata-rata usia adalah sekitar 41, rata-rata waktu yang dihabiskan adalah sekitar 5 jam, dan rata-rata pendapat adalah sekitar 15014 dolar.\n",
        "\n",
        "3. Std (Standard Deviation): Standar deviasi mengukur seberapa tersebar atau beragam data dari rata-rata. Semakin tinggi nilai standar deviasi, semakin besar variabilitas data. Misalnya, standar deviasi untuk usia adalah sekitar 13.5 tahun, untuk waktu yang dihabiskan sekitar 2.5 jam, dan untuk pendapatan sekitar 2958 dolar.\n",
        "\n",
        "4. Min: Nilai terkecil dalam setiap variabel. Misalnya, nilai minimum usia adalah 18 tahun, waktu terkecil yang dihabiskan adalah 1 jam, dan pendapatan minimum adalah 10012 dolar.\n",
        "\n",
        "5. 25%, 50%, 75% (Percentiles): Ini adalah persentil dari data, yang membagi data menjadi empat bagian yang sama besar. Misalnya, 25% dari data memiliki usia kurang dari atau sama dengan 29 tahun, 50% memiliki usia kurang dari atau sama dengan 42 tahun (ini adalah median), dan 75% memiliki usia kurang dari atau sama dengan 52 tahun. Prosesnya sama untuk waktu yang dihabiskan dan pendapatan.\n",
        "\n",
        "6. Max: Nilai terbesar dalam setiap variabel. Misalnya, nilai maksimum usia adalah 64 tahun, waktu maksimum yang dihabiskan adalah 9 jam, dan pendapatan maksimum adalah 19980 dolar."
      ],
      "metadata": {
        "id": "q_OSzaKKV28E"
      }
    },
    {
      "cell_type": "markdown",
      "source": [
        "##**Exploratory Data Analysis**"
      ],
      "metadata": {
        "id": "YVd8wfBkV9OE"
      }
    },
    {
      "cell_type": "markdown",
      "source": [
        "### Diagram Usia Pengguna Media Sosial\n",
        "\n",
        "\n",
        "\n",
        "\n"
      ],
      "metadata": {
        "id": "q2kzcMiDL8PM"
      }
    },
    {
      "cell_type": "code",
      "source": [
        "sns.histplot(df[\"age\"],kde=True)\n",
        "plt.title(\"Usia Pengguna Sosial Media\")\n",
        "plt.xlabel(\"Usia Pengguna\")\n",
        "plt.ylabel(\"Jumlah Pengguna\")"
      ],
      "metadata": {
        "id": "_ohZShs2Wv9r",
        "colab": {
          "base_uri": "https://localhost:8080/",
          "height": 489
        },
        "outputId": "81a43c34-02e9-41c1-97e0-e7a733ce83cd"
      },
      "execution_count": null,
      "outputs": [
        {
          "output_type": "execute_result",
          "data": {
            "text/plain": [
              "Text(0, 0.5, 'Jumlah Pengguna')"
            ]
          },
          "metadata": {},
          "execution_count": 7
        },
        {
          "output_type": "display_data",
          "data": {
            "text/plain": [
              "<Figure size 640x480 with 1 Axes>"
            ],
            "image/png": "[encoded data removed]"
          },
          "metadata": {}
        }
      ]
    },
    {
      "cell_type": "markdown",
      "source": [
        "**Korelasi**\n",
        "\n",
        "Pada gambar diatas menunjukkan grafik histogram yang menghubungkan usia pengguna media sosial dengan jumlah pengguna. Grafik tersebut menunjukkan bahwa terdapat korelasi positif antara usia pengguna dan jumlah pengguna. Artinya, seiring bertambahnya usia, jumlah pengguna media sosial cenderung meningkat.\n",
        "\n",
        "**Interpretasi**\n",
        "\n",
        "Meskipun grafik tidak menunjukkan angka spesifik, tampaknya kelompok usia yang lebih muda (20-30) mungkin memiliki pengguna media sosial yang lebih sedikit dibandingkan dengan kelompok usia yang lebih tua (50-60). Hal ini mungkin dapat terjadi karena ada beberapa faktor:\n",
        "\n",
        "- Prioritas hidup: Orang yang lebih muda mungkin fokus pada pendidikan, memulai karir, atau membesarkan keluarga, sehingga menyisakan sedikit waktu untuk terlibat di media sosial.\n",
        "\n",
        "- Kenyamanan teknologi: Orang dewasa yang lebih tua mungkin semakin nyaman menggunakan teknologi dan platform media sosial karena semakin familiar dan mudah digunakan.\n",
        "\n",
        "- Kebutuhan sosial: Orang dewasa yang lebih tua mungkin menggunakan media sosial untuk tetap terhubung dengan teman dan keluarga, terutama mereka yang tinggal jauh.\n",
        "\n",
        "**Solutif**\n",
        "\n",
        "Oleh karena itu, beberapa solusi untuk berpotensi meningkatkan penggunaan media sosial di kalangan kelompok usia yang lebih muda:\n",
        "- Mengembangkan konten dan platform khusus usia: Sesuaikan konten dan fitur dengan minat dan kebutuhan pengguna yang lebih muda. Ini dapat melibatkan penggabungan tren populer, tantangan, dan fitur yang spesifik untuk preferensi mereka.\n",
        "\n",
        "- Mempromosikan literasi digital: Menyediakan program dan sumber daya edukasi untuk membantu orang muda memahami manfaat dan potensi kelemahan penggunaan media sosial, mendorong perilaku online yang bertanggung jawab dan aman.\n",
        "\n",
        "- Menjembatani kesenjangan generasi: Mendorong komunikasi dan kolaborasi antar generasi di platform media sosial. Ini dapat melibatkan pembuatan ruang online bersama atau kegiatan yang mendorong interaksi antara pengguna yang lebih muda dan lebih tua."
      ],
      "metadata": {
        "id": "2f7KrqDDGux6"
      }
    },
    {
      "cell_type": "markdown",
      "source": [
        "### Diagram Jenis Kelamin Pengguna Media Sosial"
      ],
      "metadata": {
        "id": "hPUa0KdOBlb2"
      }
    },
    {
      "cell_type": "code",
      "source": [
        "gender_counts = df['gender'].value_counts()\n",
        "gender_counts.plot(kind='pie', autopct='%1.1f%%', startangle=360)\n",
        "plt.title(\"Jenis Kelamin Pengguna Media Sosial\")\n",
        "plt.ylabel(\"\")"
      ],
      "metadata": {
        "colab": {
          "base_uri": "https://localhost:8080/",
          "height": 446
        },
        "id": "upWH-NVEtWeD",
        "outputId": "e6bb82a4-8b9e-42a0-cd64-de5458d81e35"
      },
      "execution_count": null,
      "outputs": [
        {
          "output_type": "execute_result",
          "data": {
            "text/plain": [
              "Text(0, 0.5, '')"
            ]
          },
          "metadata": {},
          "execution_count": 11
        },
        {
          "output_type": "display_data",
          "data": {
            "text/plain": [
              "<Figure size 640x480 with 1 Axes>"
            ],
            "image/png": "[encoded data removed]"
          },
          "metadata": {}
        }
      ]
    },
    {
      "cell_type": "markdown",
      "source": [
        "Pada diagram lingkaran diatas ini menunjukkan bahwa:\n",
        "- 33,7% pengguna media sosial dalam kumpulan data mengidentifikasi diri mereka sebagai laki-laki.\n",
        "- 33,1% pengguna media sosial dalam kumpulan data mengidentifikasi diri mereka sebagai perempuan.\n",
        "- 33,2% pengguna media sosial dalam kumpulan data mengidentifikasi sebagai non-biner.\n",
        "\n",
        "Penting untuk diketahui bahwa data ini mungkin tidak mewakili keseluruhan populasi pengguna media sosial dan mungkin spesifik untuk wilayah, kelompok umur, atau platform tertentu."
      ],
      "metadata": {
        "id": "nm-BULzoHPKO"
      }
    },
    {
      "cell_type": "markdown",
      "source": [
        "### Diagram Platform yang sering digunakan"
      ],
      "metadata": {
        "id": "tJ47iWtdE5-g"
      }
    },
    {
      "cell_type": "code",
      "source": [
        "plt.bar(df['platform'].unique(), df['platform'].value_counts(), color=['red', 'gray', 'gray'])\n",
        "plt.title(\"Platform yang sering digunakan\")\n",
        "plt.ylabel(\"Jumlah Pengguna\")\n",
        "plt.xlabel(\"Platform Media Sosial\")"
      ],
      "metadata": {
        "colab": {
          "base_uri": "https://localhost:8080/",
          "height": 489
        },
        "id": "FPg6ZJbP-Kw8",
        "outputId": "de76633b-221c-4a8e-eb1f-12b71dc8b5cf"
      },
      "execution_count": null,
      "outputs": [
        {
          "output_type": "execute_result",
          "data": {
            "text/plain": [
              "Text(0.5, 0, 'Platform Media Sosial')"
            ]
          },
          "metadata": {},
          "execution_count": 8
        },
        {
          "output_type": "display_data",
          "data": {
            "text/plain": [
              "<Figure size 640x480 with 1 Axes>"
            ],
            "image/png": "[encoded data removed]"
          },
          "metadata": {}
        }
      ]
    },
    {
      "cell_type": "markdown",
      "source": [
        "Berdasarkan pada grafik diatas menunjukkan Platform Instagram paling banyak diminati oleh kalangan pengguna media sosial, karena jumlah pengguna Instagram jauh lebih tinggi dibandingkan dengan platform lainnya. Hal ini menujukkan bahwa Instagram memiliki popularitas yang signifikan di antara pengguna media sosial."
      ],
      "metadata": {
        "id": "mGbLuvF8YrDx"
      }
    },
    {
      "cell_type": "markdown",
      "source": [
        "##**Verify Data Quality**"
      ],
      "metadata": {
        "id": "BqwrKc6WXFpz"
      }
    },
    {
      "cell_type": "markdown",
      "source": [
        "####Missing Values"
      ],
      "metadata": {
        "id": "JrPhpE3VXTMR"
      }
    },
    {
      "cell_type": "code",
      "source": [
        "pd.DataFrame(df.isna().sum() / len(df) * 100, columns=['Null Ratio %'])"
      ],
      "metadata": {
        "id": "iq2vTmQJXhuj",
        "colab": {
          "base_uri": "https://localhost:8080/",
          "height": 426
        },
        "outputId": "ef5d8ee0-d9ae-4fdf-e018-f440c1e0786f"
      },
      "execution_count": null,
      "outputs": [
        {
          "output_type": "execute_result",
          "data": {
            "text/plain": [
              "              Null Ratio %\n",
              "age                    0.0\n",
              "gender                 0.0\n",
              "time_spent             0.0\n",
              "platform               0.0\n",
              "interests              0.0\n",
              "location               0.0\n",
              "demographics           0.0\n",
              "profession             0.0\n",
              "income                 0.0\n",
              "indebt                 0.0\n",
              "isHomeOwner            0.0\n",
              "Owns_Car               0.0"
            ],
            "text/html": [
              "\n",
              "  <div id=\"df-d794d020-0dac-46d1-87a3-bbbeb3fcd5c3\" class=\"colab-df-container\">\n",
              "    <div>\n",
              "<style scoped>\n",
              "    .dataframe tbody tr th:only-of-type {\n",
              "        vertical-align: middle;\n",
              "    }\n",
              "\n",
              "    .dataframe tbody tr th {\n",
              "        vertical-align: top;\n",
              "    }\n",
              "\n",
              "    .dataframe thead th {\n",
              "        text-align: right;\n",
              "    }\n",
              "</style>\n",
              "<table border=\"1\" class=\"dataframe\">\n",
              "  <thead>\n",
              "    <tr style=\"text-align: right;\">\n",
              "      <th></th>\n",
              "      <th>Null Ratio %</th>\n",
              "    </tr>\n",
              "  </thead>\n",
              "  <tbody>\n",
              "    <tr>\n",
              "      <th>age</th>\n",
              "      <td>0.0</td>\n",
              "    </tr>\n",
              "    <tr>\n",
              "      <th>gender</th>\n",
              "      <td>0.0</td>\n",
              "    </tr>\n",
              "    <tr>\n",
              "      <th>time_spent</th>\n",
              "      <td>0.0</td>\n",
              "    </tr>\n",
              "    <tr>\n",
              "      <th>platform</th>\n",
              "      <td>0.0</td>\n",
              "    </tr>\n",
              "    <tr>\n",
              "      <th>interests</th>\n",
              "      <td>0.0</td>\n",
              "    </tr>\n",
              "    <tr>\n",
              "      <th>location</th>\n",
              "      <td>0.0</td>\n",
              "    </tr>\n",
              "    <tr>\n",
              "      <th>demographics</th>\n",
              "      <td>0.0</td>\n",
              "    </tr>\n",
              "    <tr>\n",
              "      <th>profession</th>\n",
              "      <td>0.0</td>\n",
              "    </tr>\n",
              "    <tr>\n",
              "      <th>income</th>\n",
              "      <td>0.0</td>\n",
              "    </tr>\n",
              "    <tr>\n",
              "      <th>indebt</th>\n",
              "      <td>0.0</td>\n",
              "    </tr>\n",
              "    <tr>\n",
              "      <th>isHomeOwner</th>\n",
              "      <td>0.0</td>\n",
              "    </tr>\n",
              "    <tr>\n",
              "      <th>Owns_Car</th>\n",
              "      <td>0.0</td>\n",
              "    </tr>\n",
              "  </tbody>\n",
              "</table>\n",
              "</div>\n",
              "    <div class=\"colab-df-buttons\">\n",
              "\n",
              "  <div class=\"colab-df-container\">\n",
              "    <button class=\"colab-df-convert\" onclick=\"convertToInteractive('df-d794d020-0dac-46d1-87a3-bbbeb3fcd5c3')\"\n",
              "            title=\"Convert this dataframe to an interactive table.\"\n",
              "            style=\"display:none;\">\n",
              "\n",
              "  <svg xmlns=\"http://www.w3.org/2000/svg\" height=\"24px\" viewBox=\"0 -960 960 960\">\n",
              "    <path d=\"M120-120v-720h720v720H120Zm60-500h600v-160H180v160Zm220 220h160v-160H400v160Zm0 220h160v-160H400v160ZM180-400h160v-160H180v160Zm440 0h160v-160H620v160ZM180-180h160v-160H180v160Zm440 0h160v-160H620v160Z\"/>\n",
              "  </svg>\n",
              "    </button>\n",
              "\n",
              "  <style>\n",
              "    .colab-df-container {\n",
              "      display:flex;\n",
              "      gap: 12px;\n",
              "    }\n",
              "\n",
              "    .colab-df-convert {\n",
              "      background-color: #E8F0FE;\n",
              "      border: none;\n",
              "      border-radius: 50%;\n",
              "      cursor: pointer;\n",
              "      display: none;\n",
              "      fill: #1967D2;\n",
              "      height: 32px;\n",
              "      padding: 0 0 0 0;\n",
              "      width: 32px;\n",
              "    }\n",
              "\n",
              "    .colab-df-convert:hover {\n",
              "      background-color: #E2EBFA;\n",
              "      box-shadow: 0px 1px 2px rgba(60, 64, 67, 0.3), 0px 1px 3px 1px rgba(60, 64, 67, 0.15);\n",
              "      fill: #174EA6;\n",
              "    }\n",
              "\n",
              "    .colab-df-buttons div {\n",
              "      margin-bottom: 4px;\n",
              "    }\n",
              "\n",
              "    [theme=dark] .colab-df-convert {\n",
              "      background-color: #3B4455;\n",
              "      fill: #D2E3FC;\n",
              "    }\n",
              "\n",
              "    [theme=dark] .colab-df-convert:hover {\n",
              "      background-color: #434B5C;\n",
              "      box-shadow: 0px 1px 3px 1px rgba(0, 0, 0, 0.15);\n",
              "      filter: drop-shadow(0px 1px 2px rgba(0, 0, 0, 0.3));\n",
              "      fill: #FFFFFF;\n",
              "    }\n",
              "  </style>\n",
              "\n",
              "    <script>\n",
              "      const buttonEl =\n",
              "        document.querySelector('#df-d794d020-0dac-46d1-87a3-bbbeb3fcd5c3 button.colab-df-convert');\n",
              "      buttonEl.style.display =\n",
              "        google.colab.kernel.accessAllowed ? 'block' : 'none';\n",
              "\n",
              "      async function convertToInteractive(key) {\n",
              "        const element = document.querySelector('#df-d794d020-0dac-46d1-87a3-bbbeb3fcd5c3');\n",
              "        const dataTable =\n",
              "          await google.colab.kernel.invokeFunction('convertToInteractive',\n",
              "                                                    [key], {});\n",
              "        if (!dataTable) return;\n",
              "\n",
              "        const docLinkHtml = 'Like what you see? Visit the ' +\n",
              "          '<a target=\"_blank\" href=https://colab.research.google.com/notebooks/data_table.ipynb>data table notebook</a>'\n",
              "          + ' to learn more about interactive tables.';\n",
              "        element.innerHTML = '';\n",
              "        dataTable['output_type'] = 'display_data';\n",
              "        await google.colab.output.renderOutput(dataTable, element);\n",
              "        const docLink = document.createElement('div');\n",
              "        docLink.innerHTML = docLinkHtml;\n",
              "        element.appendChild(docLink);\n",
              "      }\n",
              "    </script>\n",
              "  </div>\n",
              "\n",
              "\n",
              "<div id=\"df-f21a48ef-72d2-4079-8fb0-5d1e7e46d413\">\n",
              "  <button class=\"colab-df-quickchart\" onclick=\"quickchart('df-f21a48ef-72d2-4079-8fb0-5d1e7e46d413')\"\n",
              "            title=\"Suggest charts\"\n",
              "            style=\"display:none;\">\n",
              "\n",
              "<svg xmlns=\"http://www.w3.org/2000/svg\" height=\"24px\"viewBox=\"0 0 24 24\"\n",
              "     width=\"24px\">\n",
              "    <g>\n",
              "        <path d=\"M19 3H5c-1.1 0-2 .9-2 2v14c0 1.1.9 2 2 2h14c1.1 0 2-.9 2-2V5c0-1.1-.9-2-2-2zM9 17H7v-7h2v7zm4 0h-2V7h2v10zm4 0h-2v-4h2v4z\"/>\n",
              "    </g>\n",
              "</svg>\n",
              "  </button>\n",
              "\n",
              "<style>\n",
              "  .colab-df-quickchart {\n",
              "      --bg-color: #E8F0FE;\n",
              "      --fill-color: #1967D2;\n",
              "      --hover-bg-color: #E2EBFA;\n",
              "      --hover-fill-color: #174EA6;\n",
              "      --disabled-fill-color: #AAA;\n",
              "      --disabled-bg-color: #DDD;\n",
              "  }\n",
              "\n",
              "  [theme=dark] .colab-df-quickchart {\n",
              "      --bg-color: #3B4455;\n",
              "      --fill-color: #D2E3FC;\n",
              "      --hover-bg-color: #434B5C;\n",
              "      --hover-fill-color: #FFFFFF;\n",
              "      --disabled-bg-color: #3B4455;\n",
              "      --disabled-fill-color: #666;\n",
              "  }\n",
              "\n",
              "  .colab-df-quickchart {\n",
              "    background-color: var(--bg-color);\n",
              "    border: none;\n",
              "    border-radius: 50%;\n",
              "    cursor: pointer;\n",
              "    display: none;\n",
              "    fill: var(--fill-color);\n",
              "    height: 32px;\n",
              "    padding: 0;\n",
              "    width: 32px;\n",
              "  }\n",
              "\n",
              "  .colab-df-quickchart:hover {\n",
              "    background-color: var(--hover-bg-color);\n",
              "    box-shadow: 0 1px 2px rgba(60, 64, 67, 0.3), 0 1px 3px 1px rgba(60, 64, 67, 0.15);\n",
              "    fill: var(--button-hover-fill-color);\n",
              "  }\n",
              "\n",
              "  .colab-df-quickchart-complete:disabled,\n",
              "  .colab-df-quickchart-complete:disabled:hover {\n",
              "    background-color: var(--disabled-bg-color);\n",
              "    fill: var(--disabled-fill-color);\n",
              "    box-shadow: none;\n",
              "  }\n",
              "\n",
              "  .colab-df-spinner {\n",
              "    border: 2px solid var(--fill-color);\n",
              "    border-color: transparent;\n",
              "    border-bottom-color: var(--fill-color);\n",
              "    animation:\n",
              "      spin 1s steps(1) infinite;\n",
              "  }\n",
              "\n",
              "  @keyframes spin {\n",
              "    0% {\n",
              "      border-color: transparent;\n",
              "      border-bottom-color: var(--fill-color);\n",
              "      border-left-color: var(--fill-color);\n",
              "    }\n",
              "    20% {\n",
              "      border-color: transparent;\n",
              "      border-left-color: var(--fill-color);\n",
              "      border-top-color: var(--fill-color);\n",
              "    }\n",
              "    30% {\n",
              "      border-color: transparent;\n",
              "      border-left-color: var(--fill-color);\n",
              "      border-top-color: var(--fill-color);\n",
              "      border-right-color: var(--fill-color);\n",
              "    }\n",
              "    40% {\n",
              "      border-color: transparent;\n",
              "      border-right-color: var(--fill-color);\n",
              "      border-top-color: var(--fill-color);\n",
              "    }\n",
              "    60% {\n",
              "      border-color: transparent;\n",
              "      border-right-color: var(--fill-color);\n",
              "    }\n",
              "    80% {\n",
              "      border-color: transparent;\n",
              "      border-right-color: var(--fill-color);\n",
              "      border-bottom-color: var(--fill-color);\n",
              "    }\n",
              "    90% {\n",
              "      border-color: transparent;\n",
              "      border-bottom-color: var(--fill-color);\n",
              "    }\n",
              "  }\n",
              "</style>\n",
              "\n",
              "  <script>\n",
              "    async function quickchart(key) {\n",
              "      const quickchartButtonEl =\n",
              "        document.querySelector('#' + key + ' button');\n",
              "      quickchartButtonEl.disabled = true;  // To prevent multiple clicks.\n",
              "      quickchartButtonEl.classList.add('colab-df-spinner');\n",
              "      try {\n",
              "        const charts = await google.colab.kernel.invokeFunction(\n",
              "            'suggestCharts', [key], {});\n",
              "      } catch (error) {\n",
              "        console.error('Error during call to suggestCharts:', error);\n",
              "      }\n",
              "      quickchartButtonEl.classList.remove('colab-df-spinner');\n",
              "      quickchartButtonEl.classList.add('colab-df-quickchart-complete');\n",
              "    }\n",
              "    (() => {\n",
              "      let quickchartButtonEl =\n",
              "        document.querySelector('#df-f21a48ef-72d2-4079-8fb0-5d1e7e46d413 button');\n",
              "      quickchartButtonEl.style.display =\n",
              "        google.colab.kernel.accessAllowed ? 'block' : 'none';\n",
              "    })();\n",
              "  </script>\n",
              "</div>\n",
              "    </div>\n",
              "  </div>\n"
            ],
            "application/vnd.google.colaboratory.intrinsic+json": {
              "type": "dataframe",
              "summary": "{\n  \"name\": \"pd\",\n  \"rows\": 12,\n  \"fields\": [\n    {\n      \"column\": \"Null Ratio %\",\n      \"properties\": {\n        \"dtype\": \"number\",\n        \"std\": 0.0,\n        \"min\": 0.0,\n        \"max\": 0.0,\n        \"num_unique_values\": 1,\n        \"samples\": [\n          0.0\n        ],\n        \"semantic_type\": \"\",\n        \"description\": \"\"\n      }\n    }\n  ]\n}"
            }
          },
          "metadata": {},
          "execution_count": 12
        }
      ]
    },
    {
      "cell_type": "markdown",
      "source": [
        "Dalam tabel di atas, tidak terdapat nilai nol atau kosong dalam setiap kolom dataset. Ini menunjukkan bahwa setiap kolom dalam dataset memiliki nilai yang valid untuk setiap barisnya. Dengan persentase nol, dapat disimpulkan bahwa tidak ada kebutuhan untuk menangani nilai yang hilang dalam dataset untuk kolom-kolom tersebut."
      ],
      "metadata": {
        "id": "2qJ5hwEqXoLo"
      }
    },
    {
      "cell_type": "markdown",
      "source": [
        "####Outliers Values"
      ],
      "metadata": {
        "id": "jEeCU-vVXV84"
      }
    },
    {
      "cell_type": "code",
      "source": [
        "def detect_outliers(column):\n",
        "    Q1 = column.quantile(0.25)\n",
        "    Q3 = column.quantile(0.75)\n",
        "    IQR = Q3 - Q1\n",
        "    lower_bound = Q1 - 1.5 * IQR\n",
        "    upper_bound = Q3 + 1.5 * IQR\n",
        "    outliers = column[(column < lower_bound) | (column > upper_bound)]\n",
        "    return outliers\n",
        "\n",
        "for column in df.select_dtypes(include=['int64', 'float64']).columns:\n",
        "    outliers = detect_outliers(df[column])\n",
        "    if not outliers.empty:\n",
        "        print(f\"Outliers dalam kolom '{column}':\")\n",
        "        print(outliers)\n",
        "    else:\n",
        "        print(f\"Tidak ada outliers dalam kolom '{column}'\")"
      ],
      "metadata": {
        "id": "HGiqZ6aOX6HY",
        "colab": {
          "base_uri": "https://localhost:8080/"
        },
        "outputId": "673e6b53-80cb-4eec-f629-e8af6ef136b1"
      },
      "execution_count": null,
      "outputs": [
        {
          "output_type": "stream",
          "name": "stdout",
          "text": [
            "Tidak ada outliers dalam kolom 'age'\n",
            "Tidak ada outliers dalam kolom 'time_spent'\n",
            "Tidak ada outliers dalam kolom 'income'\n"
          ]
        }
      ]
    },
    {
      "cell_type": "markdown",
      "source": [
        "Pada informasi diatas, dinyatakan tidak ada nilai yang jauh berbeda dari sebagian besar data dalam suatu dataset."
      ],
      "metadata": {
        "id": "ggn0R2wCXuSC"
      }
    },
    {
      "cell_type": "markdown",
      "source": [
        "####Duplicated Values"
      ],
      "metadata": {
        "id": "vWjwGwZaXaod"
      }
    },
    {
      "cell_type": "code",
      "source": [
        "df.duplicated()"
      ],
      "metadata": {
        "id": "7wcta1dbX8l3",
        "colab": {
          "base_uri": "https://localhost:8080/"
        },
        "outputId": "8f4aa6ec-34ca-4b2e-ca9a-28a3cb0fe645"
      },
      "execution_count": null,
      "outputs": [
        {
          "output_type": "execute_result",
          "data": {
            "text/plain": [
              "0      False\n",
              "1      False\n",
              "2      False\n",
              "3      False\n",
              "4      False\n",
              "       ...  \n",
              "995    False\n",
              "996    False\n",
              "997    False\n",
              "998    False\n",
              "999    False\n",
              "Length: 1000, dtype: bool"
            ]
          },
          "metadata": {},
          "execution_count": 13
        }
      ]
    },
    {
      "cell_type": "markdown",
      "source": [
        "Pada informasi diatas, dijelaskan bahwa setiap kolom tidak memiliki data yang duplikat."
      ],
      "metadata": {
        "id": "VKTUrMJAX0fv"
      }
    },
    {
      "cell_type": "markdown",
      "source": [
        "####Inconsistent Values / Noise (Optional)"
      ],
      "metadata": {
        "id": "q0_lULWDX-y6"
      }
    },
    {
      "cell_type": "code",
      "source": [
        "for column in df.columns:\n",
        "    print(f\"Column: {column}\")\n",
        "    unique_values_count = len(df[column].unique())\n",
        "    print(f\"Jumlah Nilai Unik: {unique_values_count}\")\n",
        "    print()"
      ],
      "metadata": {
        "id": "cnvHMqE3YawE",
        "colab": {
          "base_uri": "https://localhost:8080/"
        },
        "outputId": "6381b289-a17b-4d92-c401-d910a9a75b0e"
      },
      "execution_count": 8,
      "outputs": [
        {
          "output_type": "stream",
          "name": "stdout",
          "text": [
            "Column: age\n",
            "Jumlah Nilai Unik: 47\n",
            "\n",
            "Column: gender\n",
            "Jumlah Nilai Unik: 3\n",
            "\n",
            "Column: time_spent\n",
            "Jumlah Nilai Unik: 9\n",
            "\n",
            "Column: platform\n",
            "Jumlah Nilai Unik: 3\n",
            "\n",
            "Column: interests\n",
            "Jumlah Nilai Unik: 3\n",
            "\n",
            "Column: location\n",
            "Jumlah Nilai Unik: 3\n",
            "\n",
            "Column: demographics\n",
            "Jumlah Nilai Unik: 3\n",
            "\n",
            "Column: profession\n",
            "Jumlah Nilai Unik: 3\n",
            "\n",
            "Column: income\n",
            "Jumlah Nilai Unik: 955\n",
            "\n",
            "Column: indebt\n",
            "Jumlah Nilai Unik: 2\n",
            "\n",
            "Column: isHomeOwner\n",
            "Jumlah Nilai Unik: 2\n",
            "\n",
            "Column: Owns_Car\n",
            "Jumlah Nilai Unik: 2\n",
            "\n"
          ]
        }
      ]
    },
    {
      "cell_type": "markdown",
      "source": [
        "Pada informasi diatas, dijelaskan tentang jumlah nilai unik dalam setiap kolom dari dataset.\n",
        "- Kolom **age**: Terdapat 47 nilai unik dalam kolom ini, yang berarti terdapat variasi usia dari pengguna dataset.\n",
        "- Kolom **gender**: Terdapat 3 nilai unik dalam kolom ini, menunjukkan variasi jenis kelamin pengguna.\n",
        "- Kolom **time_spent**: Terdapat 9 nilai unik dalam kolom ini, yang mungkin mewakili variasi waktu yang dihabiskan oleh pengguna di platform media sosial.\n",
        "- Kolom **platform**: Terdapat 3 nilai unik dalam kolom ini, menunjukkan variasi platform media sosial yang digunakan oleh pengguna.\n",
        "- Kolom **interests**: Terdapat 3 nilai unik dalam kolom ini, mungkin menggambarkan variasi minat atau hobi pengguna.\n",
        "- Kolom **location**: Terdapat 3 nilai unik dalam kolom ini, yang mungkin mencerminkan variasi lokasi atau tempat tinggal pengguna.\n",
        "- Kolom **demographics**: Terdapat 3 nilai unik dalam kolom ini, yang mungkin menggambarkan variasi demografis pengguna.\n",
        "- Kolom **profession**: Terdapat 3 nilai unik dalam kolom ini, menunjukkan variasi profesi atau pekerjaan pengguna.\n",
        "- Kolom **income**: Terdapat 955 nilai unik dalam kolom ini, yang mencerminkan variasi pendapatan dari pengguna dataset.\n",
        "- Kolom **indebt**: Terdapat 2 nilai unik dalam kolom ini, yang mungkin menunjukkan apakah pengguna memiliki hutang atau tidak.\n",
        "- Kolom **isHomeOwner**: Terdapat 2 nilai unik dalam kolom ini, menunjukkan apakah pengguna adalah pemilik rumah atau tidak.\n",
        "- Kolom **Owns_Car**: Terdapat 2 nilai unik dalam kolom ini, yang mungkin menunjukkan apakah pengguna memiliki mobil atau tidak."
      ],
      "metadata": {
        "id": "zN9xijkWYhq2"
      }
    }
  ]
}
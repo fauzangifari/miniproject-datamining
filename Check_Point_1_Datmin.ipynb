{
  "nbformat": 4,
  "nbformat_minor": 0,
  "metadata": {
    "colab": {
      "provenance": [],
      "toc_visible": true,
      "authorship_tag": "ABX9TyPlz0DCLG4LO5sxmvJ5QNGF",
      "include_colab_link": true
    },
    "kernelspec": {
      "name": "python3",
      "display_name": "Python 3"
    },
    "language_info": {
      "name": "python"
    }
  },
  "cells": [
    {
      "cell_type": "markdown",
      "metadata": {
        "id": "view-in-github",
        "colab_type": "text"
      },
      "source": [
        "<a href=\"https://colab.research.google.com/github/fauzangifari/miniproject-datamining/blob/main/Check_Point_1_Datmin.ipynb\" target=\"_parent\"><img src=\"https://colab.research.google.com/assets/colab-badge.svg\" alt=\"Open In Colab\"/></a>"
      ]
    },
    {
      "cell_type": "markdown",
      "source": [
        "# **Rata-Rata Waktu yang Dihabiskan Oleh Pengguna Di Media Sosial**\n",
        "\n",
        "## **Business Understanding**\n",
        "\n",
        "### **Business Objective**\n",
        "Dataset ini memiliki tujuan bisnis yang jelas, yaitu untuk memperoleh pemahaman yang mendalam mengenai rata-rata waktu yang dihabiskan oleh pengguna media sosial. Lebih dari itu, dataset ini juga memiliki potensi untuk memberikan kontribusi yang signifikan bagi platform media sosial, pengiklan, pembuat konten, dan para peneliti. Dengan informasi yang tersedia dalam dataset ini, pihak-pihak terkait dapat merancang strategi yang lebih efektif dan memahami dampak media sosial secara lebih komprehensif terhadap individu maupun masyarakat secara keseluruhan.\n",
        "\n",
        "### **Access Situation**\n",
        "Analisis ini didasari oleh situasi bisnis yang penting, yaitu untuk mendalami perilaku pengguna saat menggunakan media sosial setiap hari. Dalam hal ini, pemahaman lebih lanjut tentang bagaimana interaksi dengan platform media sosial dapat memengaruhi produktivitas individu menjadi fokus utama. Dengan pemahaman yang lebih baik tentang dinamika ini, perusahaan dan individu dapat mengembangkan strategi yang lebih efektif untuk mengelola waktu dan meningkatkan produktivitas mereka.\n",
        "\n",
        "### **Data Mining Goals**\n",
        "Tujuan dari Data Mining pada dataset ini adalah untuk menganalisis data yang akan digunakan sebagai prediksi perilaku masa depan pengguna berdasarkan pola waktu yang dihabiskan, serta untuk melakukan perbandingan antara rata-rata waktu yang dihabiskan di berbagai platform media sosial. Melalui pemahaman yang mendalam dari data rata-rata waktu yang dihabiskan oleh pengguna media sosial, berbagai tujuan data mining tersebut dapat membantu perusahaan dan peneliti dalam memahami perilaku pengguna dengan lebih baik, serta merancang strategi yang lebih efektif.\n",
        "\n",
        "### **Project Plan**\n",
        "Rencana proyek ini dimulai dengan pengumpulan data dari sumber yang tersedia, diikuti oleh pemrosesan data untuk membersihkan dan mempersiapkannya. Kemudian, dilakukan analisis untuk memahami pola-pola yang terkandung di dalamnya, dan hasilnya akan divisualisasikan untuk mempresentasikan temuan dan wawasan yang diperoleh. Data juga akan dikelompokkan berdasarkan pola waktu yang dihabiskan, langkah-langkah ini penting untuk menjamin keberhasilan analisis data."
      ],
      "metadata": {
        "id": "YBcBbj5z4pnV"
      }
    }
  ]
}